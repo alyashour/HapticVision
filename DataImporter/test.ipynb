{
 "cells": [
  {
   "cell_type": "code",
   "id": "initial_id",
   "metadata": {
    "collapsed": true,
    "ExecuteTime": {
     "end_time": "2024-07-28T16:25:43.943725Z",
     "start_time": "2024-07-28T16:25:43.472242Z"
    }
   },
   "source": [
    "import pandas as pd\n",
    "import numpy as np"
   ],
   "outputs": [],
   "execution_count": 1
  },
  {
   "metadata": {
    "ExecuteTime": {
     "end_time": "2024-07-28T16:25:48.593496Z",
     "start_time": "2024-07-28T16:25:48.456974Z"
    }
   },
   "cell_type": "code",
   "source": "!ls",
   "id": "ef317d0f75d91fa0",
   "outputs": [
    {
     "name": "stdout",
     "output_type": "stream",
     "text": [
      "main.py            test.ipynb         via_egg_video.json\r\n"
     ]
    }
   ],
   "execution_count": 2
  },
  {
   "metadata": {
    "ExecuteTime": {
     "end_time": "2024-07-28T16:36:45.834795Z",
     "start_time": "2024-07-28T16:36:45.809384Z"
    }
   },
   "cell_type": "code",
   "source": [
    "file_path = 'temporal_segments.csv'\n",
    "egg = pd.read_csv(file_path)"
   ],
   "id": "64cf3e7e1f6b5fcc",
   "outputs": [],
   "execution_count": 12
  },
  {
   "metadata": {
    "ExecuteTime": {
     "end_time": "2024-07-28T16:36:47.774057Z",
     "start_time": "2024-07-28T16:36:47.766491Z"
    }
   },
   "cell_type": "code",
   "source": "egg",
   "id": "5f0a6618c68aa75c",
   "outputs": [
    {
     "data": {
      "text/plain": [
       "                                                                                                                          # Exported using VGG Image Annotator (http://www.robots.ox.ac.uk/~vgg/software/via)\n",
       "# CSV_HEADER = metadata_id file_list                                          temporal_segment_start temporal_segment_end                                           metadata                                 \n",
       "-glfwaaX                   [\"Alioli_Wikimedia_Wardtmar.mp4\"]                  3.83559                6.5                                         {\"Activity\":\"1. break egg\"}                                 \n",
       "+mHHT-tg                   [\"Alioli_Wikimedia_Wardtmar.mp4\"]                  9                      20                                        {\"Activity\":\"2. pour liquid\"}                                 \n",
       "ed+wsOZZ                   [\"Alioli_Wikimedia_Wardtmar.mp4\"]                  24                     26                                        {\"Activity\":\"2. pour liquid\"}                                 \n",
       "mxCVj1qz                   [\"Alioli_Wikimedia_Wardtmar.mp4\"]                  32                     63                                         {\"Activity\":\"3. cut garlic\"}                                 \n",
       "kHRoMie1                   [\"Alioli_Wikimedia_Wardtmar.mp4\"]                  64                     128                                               {\"Activity\":\"4. mix\"}                                 \n",
       "fH-oMre1                   [\"Alioli_Wikimedia_Wardtmar.mp4\"]                  0.917                  NaN                                           {\"Object\":\"1\",\"Type\":\"1\"}                                 \n",
       "vPao-re8                   [\"Alioli_Wikimedia_Wardtmar.mp4\"]                  0.917                  NaN                                           {\"Object\":\"2\",\"Type\":\"1\"}                                 \n",
       "x-PoM9ea                   [\"Alioli_Wikimedia_Wardtmar.mp4\"]                  0.917                  NaN                                           {\"Object\":\"6\",\"Type\":\"2\"}                                 \n",
       "mR8ks-Aa                   [\"Alioli_Wikimedia_Wardtmar.mp4\"]                  7.208                  NaN                                           {\"Object\":\"1\",\"Type\":\"1\"}                                 \n",
       "Yh7Klow6                   [\"Alioli_Wikimedia_Wardtmar.mp4\"]                  21.52                  NaN                                           {\"Object\":\"2\",\"Type\":\"1\"}                                 \n",
       "A7jfx8PX                   [\"https://upload.wikimedia.org/wikipedia/common... 2                      7                                            {\"Activity\":\"1. Heat Pan\"}                                 \n",
       "M8kl0+Xe                   [\"https://upload.wikimedia.org/wikipedia/common... 8                      23                                      {\"Activity\":\"2. Spread butter\"}                                 \n",
       "yp-X6Hjy                   [\"https://upload.wikimedia.org/wikipedia/common... 24                     27                                        {\"Activity\":\"3. Roast Bread\"}                                 "
      ],
      "text/html": [
       "<div>\n",
       "<style scoped>\n",
       "    .dataframe tbody tr th:only-of-type {\n",
       "        vertical-align: middle;\n",
       "    }\n",
       "\n",
       "    .dataframe tbody tr th {\n",
       "        vertical-align: top;\n",
       "    }\n",
       "\n",
       "    .dataframe thead th {\n",
       "        text-align: right;\n",
       "    }\n",
       "</style>\n",
       "<table border=\"1\" class=\"dataframe\">\n",
       "  <thead>\n",
       "    <tr style=\"text-align: right;\">\n",
       "      <th></th>\n",
       "      <th></th>\n",
       "      <th></th>\n",
       "      <th></th>\n",
       "      <th># Exported using VGG Image Annotator (http://www.robots.ox.ac.uk/~vgg/software/via)</th>\n",
       "    </tr>\n",
       "  </thead>\n",
       "  <tbody>\n",
       "    <tr>\n",
       "      <th># CSV_HEADER = metadata_id</th>\n",
       "      <th>file_list</th>\n",
       "      <th>temporal_segment_start</th>\n",
       "      <th>temporal_segment_end</th>\n",
       "      <td>metadata</td>\n",
       "    </tr>\n",
       "    <tr>\n",
       "      <th>-glfwaaX</th>\n",
       "      <th>[\"Alioli_Wikimedia_Wardtmar.mp4\"]</th>\n",
       "      <th>3.83559</th>\n",
       "      <th>6.5</th>\n",
       "      <td>{\"Activity\":\"1. break egg\"}</td>\n",
       "    </tr>\n",
       "    <tr>\n",
       "      <th>+mHHT-tg</th>\n",
       "      <th>[\"Alioli_Wikimedia_Wardtmar.mp4\"]</th>\n",
       "      <th>9</th>\n",
       "      <th>20</th>\n",
       "      <td>{\"Activity\":\"2. pour liquid\"}</td>\n",
       "    </tr>\n",
       "    <tr>\n",
       "      <th>ed+wsOZZ</th>\n",
       "      <th>[\"Alioli_Wikimedia_Wardtmar.mp4\"]</th>\n",
       "      <th>24</th>\n",
       "      <th>26</th>\n",
       "      <td>{\"Activity\":\"2. pour liquid\"}</td>\n",
       "    </tr>\n",
       "    <tr>\n",
       "      <th>mxCVj1qz</th>\n",
       "      <th>[\"Alioli_Wikimedia_Wardtmar.mp4\"]</th>\n",
       "      <th>32</th>\n",
       "      <th>63</th>\n",
       "      <td>{\"Activity\":\"3. cut garlic\"}</td>\n",
       "    </tr>\n",
       "    <tr>\n",
       "      <th>kHRoMie1</th>\n",
       "      <th>[\"Alioli_Wikimedia_Wardtmar.mp4\"]</th>\n",
       "      <th>64</th>\n",
       "      <th>128</th>\n",
       "      <td>{\"Activity\":\"4. mix\"}</td>\n",
       "    </tr>\n",
       "    <tr>\n",
       "      <th>fH-oMre1</th>\n",
       "      <th>[\"Alioli_Wikimedia_Wardtmar.mp4\"]</th>\n",
       "      <th>0.917</th>\n",
       "      <th>NaN</th>\n",
       "      <td>{\"Object\":\"1\",\"Type\":\"1\"}</td>\n",
       "    </tr>\n",
       "    <tr>\n",
       "      <th>vPao-re8</th>\n",
       "      <th>[\"Alioli_Wikimedia_Wardtmar.mp4\"]</th>\n",
       "      <th>0.917</th>\n",
       "      <th>NaN</th>\n",
       "      <td>{\"Object\":\"2\",\"Type\":\"1\"}</td>\n",
       "    </tr>\n",
       "    <tr>\n",
       "      <th>x-PoM9ea</th>\n",
       "      <th>[\"Alioli_Wikimedia_Wardtmar.mp4\"]</th>\n",
       "      <th>0.917</th>\n",
       "      <th>NaN</th>\n",
       "      <td>{\"Object\":\"6\",\"Type\":\"2\"}</td>\n",
       "    </tr>\n",
       "    <tr>\n",
       "      <th>mR8ks-Aa</th>\n",
       "      <th>[\"Alioli_Wikimedia_Wardtmar.mp4\"]</th>\n",
       "      <th>7.208</th>\n",
       "      <th>NaN</th>\n",
       "      <td>{\"Object\":\"1\",\"Type\":\"1\"}</td>\n",
       "    </tr>\n",
       "    <tr>\n",
       "      <th>Yh7Klow6</th>\n",
       "      <th>[\"Alioli_Wikimedia_Wardtmar.mp4\"]</th>\n",
       "      <th>21.52</th>\n",
       "      <th>NaN</th>\n",
       "      <td>{\"Object\":\"2\",\"Type\":\"1\"}</td>\n",
       "    </tr>\n",
       "    <tr>\n",
       "      <th>A7jfx8PX</th>\n",
       "      <th>[\"https://upload.wikimedia.org/wikipedia/commons/transcoded/8/89/Grilledcheesesandwich.webm/Grilledcheesesandwich.webm.360p.webm\"]</th>\n",
       "      <th>2</th>\n",
       "      <th>7</th>\n",
       "      <td>{\"Activity\":\"1. Heat Pan\"}</td>\n",
       "    </tr>\n",
       "    <tr>\n",
       "      <th>M8kl0+Xe</th>\n",
       "      <th>[\"https://upload.wikimedia.org/wikipedia/commons/transcoded/8/89/Grilledcheesesandwich.webm/Grilledcheesesandwich.webm.360p.webm\"]</th>\n",
       "      <th>8</th>\n",
       "      <th>23</th>\n",
       "      <td>{\"Activity\":\"2. Spread butter\"}</td>\n",
       "    </tr>\n",
       "    <tr>\n",
       "      <th>yp-X6Hjy</th>\n",
       "      <th>[\"https://upload.wikimedia.org/wikipedia/commons/transcoded/8/89/Grilledcheesesandwich.webm/Grilledcheesesandwich.webm.360p.webm\"]</th>\n",
       "      <th>24</th>\n",
       "      <th>27</th>\n",
       "      <td>{\"Activity\":\"3. Roast Bread\"}</td>\n",
       "    </tr>\n",
       "  </tbody>\n",
       "</table>\n",
       "</div>"
      ]
     },
     "execution_count": 13,
     "metadata": {},
     "output_type": "execute_result"
    }
   ],
   "execution_count": 13
  },
  {
   "metadata": {},
   "cell_type": "code",
   "outputs": [],
   "execution_count": null,
   "source": "",
   "id": "510053c3c856981b"
  }
 ],
 "metadata": {
  "kernelspec": {
   "display_name": "Python 3",
   "language": "python",
   "name": "python3"
  },
  "language_info": {
   "codemirror_mode": {
    "name": "ipython",
    "version": 2
   },
   "file_extension": ".py",
   "mimetype": "text/x-python",
   "name": "python",
   "nbconvert_exporter": "python",
   "pygments_lexer": "ipython2",
   "version": "2.7.6"
  }
 },
 "nbformat": 4,
 "nbformat_minor": 5
}
